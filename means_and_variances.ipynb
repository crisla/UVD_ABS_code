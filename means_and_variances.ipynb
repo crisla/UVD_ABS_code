{
 "cells": [
  {
   "cell_type": "code",
   "execution_count": 22,
   "metadata": {},
   "outputs": [
    {
     "name": "stdout",
     "output_type": "stream",
     "text": [
      "The autoreload extension is already loaded. To reload it, use:\n",
      "  %reload_ext autoreload\n"
     ]
    }
   ],
   "source": [
    "# importing libraries\n",
    "from __future__ import division\n",
    "import numpy as np#\n",
    "from matplotlib import pyplot as plt\n",
    "%matplotlib inline\n",
    "import seaborn as sns\n",
    "sns.set_style(\"white\")\n",
    "from scipy import stats\n",
    "import pandas as pd\n",
    "import itertools\n",
    "\n",
    "sns.set_style('whitegrid')\n",
    "%load_ext autoreload\n",
    "%autoreload 2"
   ]
  },
  {
   "cell_type": "markdown",
   "metadata": {},
   "source": [
    "# Individual means and variances"
   ]
  },
  {
   "cell_type": "code",
   "execution_count": 30,
   "metadata": {},
   "outputs": [
    {
     "data": {
      "text/html": [
       "<div>\n",
       "<style scoped>\n",
       "    .dataframe tbody tr th:only-of-type {\n",
       "        vertical-align: middle;\n",
       "    }\n",
       "\n",
       "    .dataframe tbody tr th {\n",
       "        vertical-align: top;\n",
       "    }\n",
       "\n",
       "    .dataframe thead th {\n",
       "        text-align: right;\n",
       "    }\n",
       "</style>\n",
       "<table border=\"1\" class=\"dataframe\">\n",
       "  <thead>\n",
       "    <tr style=\"text-align: right;\">\n",
       "      <th></th>\n",
       "      <th>real_days_1</th>\n",
       "      <th>spell_d</th>\n",
       "      <th>sex_d</th>\n",
       "      <th>college</th>\n",
       "      <th>lmu_i</th>\n",
       "      <th>lsig_i</th>\n",
       "    </tr>\n",
       "  </thead>\n",
       "  <tbody>\n",
       "    <tr>\n",
       "      <th>0</th>\n",
       "      <td>23</td>\n",
       "      <td>0</td>\n",
       "      <td>1</td>\n",
       "      <td>0</td>\n",
       "      <td>NaN</td>\n",
       "      <td>NaN</td>\n",
       "    </tr>\n",
       "    <tr>\n",
       "      <th>1</th>\n",
       "      <td>6</td>\n",
       "      <td>1</td>\n",
       "      <td>1</td>\n",
       "      <td>0</td>\n",
       "      <td>2.463627</td>\n",
       "      <td>0.902812</td>\n",
       "    </tr>\n",
       "    <tr>\n",
       "      <th>2</th>\n",
       "      <td>780</td>\n",
       "      <td>0</td>\n",
       "      <td>1</td>\n",
       "      <td>1</td>\n",
       "      <td>NaN</td>\n",
       "      <td>NaN</td>\n",
       "    </tr>\n",
       "    <tr>\n",
       "      <th>3</th>\n",
       "      <td>45</td>\n",
       "      <td>1</td>\n",
       "      <td>1</td>\n",
       "      <td>1</td>\n",
       "      <td>5.232978</td>\n",
       "      <td>4.068753</td>\n",
       "    </tr>\n",
       "    <tr>\n",
       "      <th>4</th>\n",
       "      <td>11</td>\n",
       "      <td>0</td>\n",
       "      <td>1</td>\n",
       "      <td>0</td>\n",
       "      <td>NaN</td>\n",
       "      <td>NaN</td>\n",
       "    </tr>\n",
       "  </tbody>\n",
       "</table>\n",
       "</div>"
      ],
      "text/plain": [
       "   real_days_1  spell_d  sex_d  college     lmu_i    lsig_i\n",
       "0           23        0      1        0       NaN       NaN\n",
       "1            6        1      1        0  2.463627  0.902812\n",
       "2          780        0      1        1       NaN       NaN\n",
       "3           45        1      1        1  5.232978  4.068753\n",
       "4           11        0      1        0       NaN       NaN"
      ]
     },
     "execution_count": 30,
     "metadata": {},
     "output_type": "execute_result"
    }
   ],
   "source": [
    "data_noa = pd.read_csv(\"./data/means_and_variances.csv\")\n",
    "data_noa.head()"
   ]
  },
  {
   "cell_type": "code",
   "execution_count": 31,
   "metadata": {},
   "outputs": [],
   "source": [
    "first_s_college = data_noa[np.logical_and(data_noa.spell_d==0,data_noa.college==1)].real_days_1.values\n",
    "secnd_s_college = data_noa[np.logical_and(data_noa.spell_d==1,data_noa.college==1)].real_days_1.values\n",
    "\n",
    "first_s_ncollege = data_noa[np.logical_and(data_noa.spell_d==0,data_noa.college==0)].real_days_1.values\n",
    "secnd_s_ncollege = data_noa[np.logical_and(data_noa.spell_d==1,data_noa.college==0)].real_days_1.values"
   ]
  },
  {
   "cell_type": "code",
   "execution_count": 33,
   "metadata": {},
   "outputs": [
    {
     "data": {
      "text/plain": [
       "count    49391.000000\n",
       "mean       210.069669\n",
       "std        361.012945\n",
       "min          1.000000\n",
       "25%         21.000000\n",
       "50%         84.000000\n",
       "75%        249.000000\n",
       "max       7211.000000\n",
       "Name: real_days_1, dtype: float64"
      ]
     },
     "execution_count": 33,
     "metadata": {},
     "output_type": "execute_result"
    }
   ],
   "source": [
    "data_noa[np.logical_and(data_noa.spell_d==0,data_noa.college==1)].real_days_1.describe()"
   ]
  },
  {
   "cell_type": "code",
   "execution_count": 51,
   "metadata": {},
   "outputs": [
    {
     "data": {
      "image/png": "[encoded data removed]",
      "text/plain": [
       "<Figure size 432x288 with 1 Axes>"
      ]
     },
     "metadata": {},
     "output_type": "display_data"
    }
   ],
   "source": [
    "h_c1, bins_c1 = np.histogram(first_s_college, bins= np.arange(0,365*4,7))\n",
    "h_c2, bins_c2 = np.histogram(secnd_s_college, bins= np.arange(0,365*4,7))\n",
    "plt.plot(bins_c1[1:],h_c1/np.sum(h_c1))\n",
    "plt.plot(bins_c2[1:],h_c2/np.sum(h_c2))\n",
    "plt.xlim(0,2*365)\n",
    "plt.ylim(0,0.2)\n",
    "plt.show()"
   ]
  },
  {
   "cell_type": "code",
   "execution_count": 65,
   "metadata": {},
   "outputs": [
    {
     "data": {
      "image/png": "[encoded data removed]",
      "text/plain": [
       "<Figure size 432x288 with 1 Axes>"
      ]
     },
     "metadata": {},
     "output_type": "display_data"
    }
   ],
   "source": [
    "h_c1, bins_c1 = np.histogram(first_s_college, bins= np.arange(0,365*4,7))\n",
    "h_c2, bins_c2 = np.histogram(secnd_s_college, bins= np.arange(0,365*4,7))\n",
    "plt.plot(bins_c1,np.hstack((1,1-np.cumsum(h_c1)/np.sum(h_c1))))\n",
    "plt.plot(bins_c2,np.hstack((1,1-np.cumsum(h_c2)/np.sum(h_c2))))\n",
    "plt.xlim(0,3*365)\n",
    "# plt.ylim(0,0.2)\n",
    "plt.show()"
   ]
  },
  {
   "cell_type": "code",
   "execution_count": 64,
   "metadata": {},
   "outputs": [
    {
     "data": {
      "image/png": "[encoded data removed]",
      "text/plain": [
       "<Figure size 432x288 with 1 Axes>"
      ]
     },
     "metadata": {},
     "output_type": "display_data"
    }
   ],
   "source": [
    "h_c1, bins_c1 = np.histogram(first_s_ncollege, bins= np.arange(0,365*4,7))\n",
    "h_c2, bins_c2 = np.histogram(secnd_s_ncollege, bins= np.arange(0,365*4,7))\n",
    "plt.plot(bins_c1,np.hstack((1,1-np.cumsum(h_c1)/np.sum(h_c1))))\n",
    "plt.plot(bins_c2,np.hstack((1,1-np.cumsum(h_c2)/np.sum(h_c2))))\n",
    "plt.xlim(0,3*365)\n",
    "# plt.ylim(0,0.2)\n",
    "plt.show()"
   ]
  },
  {
   "cell_type": "code",
   "execution_count": null,
   "metadata": {},
   "outputs": [],
   "source": []
  },
  {
   "cell_type": "markdown",
   "metadata": {},
   "source": [
    "# Other legacy code\n",
    "--------------------------------------"
   ]
  },
  {
   "cell_type": "code",
   "execution_count": 9,
   "metadata": {},
   "outputs": [
    {
     "data": {
      "text/html": [
       "<div>\n",
       "<style scoped>\n",
       "    .dataframe tbody tr th:only-of-type {\n",
       "        vertical-align: middle;\n",
       "    }\n",
       "\n",
       "    .dataframe tbody tr th {\n",
       "        vertical-align: top;\n",
       "    }\n",
       "\n",
       "    .dataframe thead th {\n",
       "        text-align: right;\n",
       "    }\n",
       "</style>\n",
       "<table border=\"1\" class=\"dataframe\">\n",
       "  <thead>\n",
       "    <tr style=\"text-align: right;\">\n",
       "      <th></th>\n",
       "      <th>real_days_1</th>\n",
       "      <th>n_spell_u</th>\n",
       "      <th>yin</th>\n",
       "      <th>mu_i</th>\n",
       "      <th>sig_i</th>\n",
       "      <th>educ2</th>\n",
       "      <th>sex_d</th>\n",
       "      <th>state</th>\n",
       "      <th>state2</th>\n",
       "      <th>U_ghost</th>\n",
       "      <th>state_past</th>\n",
       "    </tr>\n",
       "  </thead>\n",
       "  <tbody>\n",
       "    <tr>\n",
       "      <th>0</th>\n",
       "      <td>23</td>\n",
       "      <td>1</td>\n",
       "      <td>1996</td>\n",
       "      <td>NaN</td>\n",
       "      <td>NaN</td>\n",
       "      <td>2.0</td>\n",
       "      <td>1</td>\n",
       "      <td>U</td>\n",
       "      <td>U</td>\n",
       "      <td>NaN</td>\n",
       "      <td>T</td>\n",
       "    </tr>\n",
       "    <tr>\n",
       "      <th>1</th>\n",
       "      <td>6</td>\n",
       "      <td>2</td>\n",
       "      <td>1996</td>\n",
       "      <td>14.5</td>\n",
       "      <td>144.5</td>\n",
       "      <td>2.0</td>\n",
       "      <td>1</td>\n",
       "      <td>T</td>\n",
       "      <td>U</td>\n",
       "      <td>1.0</td>\n",
       "      <td>T</td>\n",
       "    </tr>\n",
       "    <tr>\n",
       "      <th>2</th>\n",
       "      <td>780</td>\n",
       "      <td>1</td>\n",
       "      <td>1996</td>\n",
       "      <td>NaN</td>\n",
       "      <td>NaN</td>\n",
       "      <td>4.0</td>\n",
       "      <td>1</td>\n",
       "      <td>U</td>\n",
       "      <td>U</td>\n",
       "      <td>NaN</td>\n",
       "      <td>P</td>\n",
       "    </tr>\n",
       "    <tr>\n",
       "      <th>3</th>\n",
       "      <td>45</td>\n",
       "      <td>2</td>\n",
       "      <td>1998</td>\n",
       "      <td>412.5</td>\n",
       "      <td>270112.5</td>\n",
       "      <td>4.0</td>\n",
       "      <td>1</td>\n",
       "      <td>T</td>\n",
       "      <td>U</td>\n",
       "      <td>1.0</td>\n",
       "      <td>T</td>\n",
       "    </tr>\n",
       "    <tr>\n",
       "      <th>4</th>\n",
       "      <td>11</td>\n",
       "      <td>1</td>\n",
       "      <td>1999</td>\n",
       "      <td>NaN</td>\n",
       "      <td>NaN</td>\n",
       "      <td>2.0</td>\n",
       "      <td>1</td>\n",
       "      <td>T</td>\n",
       "      <td>U</td>\n",
       "      <td>1.0</td>\n",
       "      <td>T</td>\n",
       "    </tr>\n",
       "  </tbody>\n",
       "</table>\n",
       "</div>"
      ],
      "text/plain": [
       "   real_days_1  n_spell_u   yin   mu_i     sig_i  educ2  sex_d state state2  \\\n",
       "0           23          1  1996    NaN       NaN    2.0      1     U      U   \n",
       "1            6          2  1996   14.5     144.5    2.0      1     T      U   \n",
       "2          780          1  1996    NaN       NaN    4.0      1     U      U   \n",
       "3           45          2  1998  412.5  270112.5    4.0      1     T      U   \n",
       "4           11          1  1999    NaN       NaN    2.0      1     T      U   \n",
       "\n",
       "   U_ghost state_past  \n",
       "0      NaN          T  \n",
       "1      1.0          T  \n",
       "2      NaN          P  \n",
       "3      1.0          T  \n",
       "4      1.0          T  "
      ]
     },
     "execution_count": 9,
     "metadata": {},
     "output_type": "execute_result"
    }
   ],
   "source": [
    "data_noa = pd.read_csv(\"./data/STU_SpellAdj.csv\")\n",
    "data_noa.head()"
   ]
  },
  {
   "cell_type": "code",
   "execution_count": 15,
   "metadata": {},
   "outputs": [],
   "source": [
    "data_noa = data_noa[np.logical_or(data_noa['state_past']==\"P\",data_noa['state_past']==\"T\")]"
   ]
  },
  {
   "cell_type": "code",
   "execution_count": 16,
   "metadata": {},
   "outputs": [
    {
     "data": {
      "text/html": [
       "<div>\n",
       "<style scoped>\n",
       "    .dataframe tbody tr th:only-of-type {\n",
       "        vertical-align: middle;\n",
       "    }\n",
       "\n",
       "    .dataframe tbody tr th {\n",
       "        vertical-align: top;\n",
       "    }\n",
       "\n",
       "    .dataframe thead th {\n",
       "        text-align: right;\n",
       "    }\n",
       "</style>\n",
       "<table border=\"1\" class=\"dataframe\">\n",
       "  <thead>\n",
       "    <tr style=\"text-align: right;\">\n",
       "      <th></th>\n",
       "      <th>count</th>\n",
       "      <th>mean</th>\n",
       "      <th>std</th>\n",
       "      <th>min</th>\n",
       "      <th>25%</th>\n",
       "      <th>50%</th>\n",
       "      <th>75%</th>\n",
       "      <th>max</th>\n",
       "    </tr>\n",
       "    <tr>\n",
       "      <th>state_past</th>\n",
       "      <th></th>\n",
       "      <th></th>\n",
       "      <th></th>\n",
       "      <th></th>\n",
       "      <th></th>\n",
       "      <th></th>\n",
       "      <th></th>\n",
       "      <th></th>\n",
       "    </tr>\n",
       "  </thead>\n",
       "  <tbody>\n",
       "    <tr>\n",
       "      <th>P</th>\n",
       "      <td>197663.0</td>\n",
       "      <td>246.108022</td>\n",
       "      <td>441.509540</td>\n",
       "      <td>1.0</td>\n",
       "      <td>21.0</td>\n",
       "      <td>94.0</td>\n",
       "      <td>285.0</td>\n",
       "      <td>11668.0</td>\n",
       "    </tr>\n",
       "    <tr>\n",
       "      <th>T</th>\n",
       "      <td>448721.0</td>\n",
       "      <td>202.512356</td>\n",
       "      <td>371.406704</td>\n",
       "      <td>1.0</td>\n",
       "      <td>21.0</td>\n",
       "      <td>78.0</td>\n",
       "      <td>220.0</td>\n",
       "      <td>8455.0</td>\n",
       "    </tr>\n",
       "  </tbody>\n",
       "</table>\n",
       "</div>"
      ],
      "text/plain": [
       "               count        mean         std  min   25%   50%    75%      max\n",
       "state_past                                                                   \n",
       "P           197663.0  246.108022  441.509540  1.0  21.0  94.0  285.0  11668.0\n",
       "T           448721.0  202.512356  371.406704  1.0  21.0  78.0  220.0   8455.0"
      ]
     },
     "execution_count": 16,
     "metadata": {},
     "output_type": "execute_result"
    }
   ],
   "source": [
    "data_noa.groupby('state_past').describe()['real_days_1']"
   ]
  },
  {
   "cell_type": "code",
   "execution_count": null,
   "metadata": {},
   "outputs": [],
   "source": []
  },
  {
   "cell_type": "code",
   "execution_count": null,
   "metadata": {},
   "outputs": [],
   "source": []
  },
  {
   "cell_type": "code",
   "execution_count": null,
   "metadata": {},
   "outputs": [],
   "source": []
  },
  {
   "cell_type": "code",
   "execution_count": 4,
   "metadata": {},
   "outputs": [
    {
     "data": {
      "text/html": [
       "<div>\n",
       "<style scoped>\n",
       "    .dataframe tbody tr th:only-of-type {\n",
       "        vertical-align: middle;\n",
       "    }\n",
       "\n",
       "    .dataframe tbody tr th {\n",
       "        vertical-align: top;\n",
       "    }\n",
       "\n",
       "    .dataframe thead th {\n",
       "        text-align: right;\n",
       "    }\n",
       "</style>\n",
       "<table border=\"1\" class=\"dataframe\">\n",
       "  <thead>\n",
       "    <tr style=\"text-align: right;\">\n",
       "      <th></th>\n",
       "      <th>id</th>\n",
       "      <th>jobcount</th>\n",
       "      <th>dtin</th>\n",
       "      <th>dtout</th>\n",
       "      <th>state</th>\n",
       "      <th>sex_d</th>\n",
       "      <th>educ2</th>\n",
       "      <th>year_in</th>\n",
       "      <th>real_days_1</th>\n",
       "      <th>state_future</th>\n",
       "      <th>state_past</th>\n",
       "      <th>nuc</th>\n",
       "      <th>nup</th>\n",
       "    </tr>\n",
       "  </thead>\n",
       "  <tbody>\n",
       "    <tr>\n",
       "      <th>0</th>\n",
       "      <td>48</td>\n",
       "      <td>9</td>\n",
       "      <td>01oct1996</td>\n",
       "      <td>21oct1996</td>\n",
       "      <td>U</td>\n",
       "      <td>1</td>\n",
       "      <td>2.0</td>\n",
       "      <td>1996</td>\n",
       "      <td>23</td>\n",
       "      <td>T</td>\n",
       "      <td>T</td>\n",
       "      <td>1.0</td>\n",
       "      <td>1</td>\n",
       "    </tr>\n",
       "    <tr>\n",
       "      <th>1</th>\n",
       "      <td>48</td>\n",
       "      <td>10</td>\n",
       "      <td>23oct1996</td>\n",
       "      <td>13may1997</td>\n",
       "      <td>T</td>\n",
       "      <td>1</td>\n",
       "      <td>2.0</td>\n",
       "      <td>1996</td>\n",
       "      <td>6</td>\n",
       "      <td>T</td>\n",
       "      <td>T</td>\n",
       "      <td>NaN</td>\n",
       "      <td>2</td>\n",
       "    </tr>\n",
       "    <tr>\n",
       "      <th>2</th>\n",
       "      <td>48</td>\n",
       "      <td>14</td>\n",
       "      <td>06apr2002</td>\n",
       "      <td>14may2002</td>\n",
       "      <td>U</td>\n",
       "      <td>1</td>\n",
       "      <td>2.0</td>\n",
       "      <td>2002</td>\n",
       "      <td>40</td>\n",
       "      <td>T</td>\n",
       "      <td>T</td>\n",
       "      <td>2.0</td>\n",
       "      <td>4</td>\n",
       "    </tr>\n",
       "    <tr>\n",
       "      <th>3</th>\n",
       "      <td>63</td>\n",
       "      <td>29</td>\n",
       "      <td>07sep1996</td>\n",
       "      <td>06sep1997</td>\n",
       "      <td>U</td>\n",
       "      <td>1</td>\n",
       "      <td>4.0</td>\n",
       "      <td>1996</td>\n",
       "      <td>780</td>\n",
       "      <td>T</td>\n",
       "      <td>P</td>\n",
       "      <td>1.0</td>\n",
       "      <td>1</td>\n",
       "    </tr>\n",
       "    <tr>\n",
       "      <th>4</th>\n",
       "      <td>63</td>\n",
       "      <td>30</td>\n",
       "      <td>26oct1998</td>\n",
       "      <td>18dec1998</td>\n",
       "      <td>T</td>\n",
       "      <td>1</td>\n",
       "      <td>4.0</td>\n",
       "      <td>1998</td>\n",
       "      <td>45</td>\n",
       "      <td>P</td>\n",
       "      <td>T</td>\n",
       "      <td>NaN</td>\n",
       "      <td>2</td>\n",
       "    </tr>\n",
       "  </tbody>\n",
       "</table>\n",
       "</div>"
      ],
      "text/plain": [
       "   id  jobcount       dtin      dtout state  sex_d  educ2  year_in  \\\n",
       "0  48         9  01oct1996  21oct1996     U      1    2.0     1996   \n",
       "1  48        10  23oct1996  13may1997     T      1    2.0     1996   \n",
       "2  48        14  06apr2002  14may2002     U      1    2.0     2002   \n",
       "3  63        29  07sep1996  06sep1997     U      1    4.0     1996   \n",
       "4  63        30  26oct1998  18dec1998     T      1    4.0     1998   \n",
       "\n",
       "   real_days_1 state_future state_past  nuc  nup  \n",
       "0           23            T          T  1.0    1  \n",
       "1            6            T          T  NaN    2  \n",
       "2           40            T          T  2.0    4  \n",
       "3          780            T          P  1.0    1  \n",
       "4           45            P          T  NaN    2  "
      ]
     },
     "execution_count": 4,
     "metadata": {},
     "output_type": "execute_result"
    }
   ],
   "source": [
    "data_noa = pd.read_csv(\"./MS96_noA_lite.csv\")\n",
    "data_noa.head()"
   ]
  },
  {
   "cell_type": "code",
   "execution_count": 5,
   "metadata": {},
   "outputs": [
    {
     "data": {
      "text/html": [
       "<div>\n",
       "<style scoped>\n",
       "    .dataframe tbody tr th:only-of-type {\n",
       "        vertical-align: middle;\n",
       "    }\n",
       "\n",
       "    .dataframe tbody tr th {\n",
       "        vertical-align: top;\n",
       "    }\n",
       "\n",
       "    .dataframe thead th {\n",
       "        text-align: right;\n",
       "    }\n",
       "</style>\n",
       "<table border=\"1\" class=\"dataframe\">\n",
       "  <thead>\n",
       "    <tr style=\"text-align: right;\">\n",
       "      <th></th>\n",
       "      <th>id</th>\n",
       "      <th>jobcount</th>\n",
       "      <th>dtin</th>\n",
       "      <th>dtout</th>\n",
       "      <th>state</th>\n",
       "      <th>sex_d</th>\n",
       "      <th>educ2</th>\n",
       "      <th>year_in</th>\n",
       "      <th>real_days_1</th>\n",
       "      <th>state_future</th>\n",
       "      <th>state_past</th>\n",
       "      <th>nuc</th>\n",
       "      <th>nup</th>\n",
       "    </tr>\n",
       "  </thead>\n",
       "  <tbody>\n",
       "    <tr>\n",
       "      <th>0</th>\n",
       "      <td>48</td>\n",
       "      <td>9</td>\n",
       "      <td>01oct1996</td>\n",
       "      <td>21oct1996</td>\n",
       "      <td>U</td>\n",
       "      <td>1</td>\n",
       "      <td>2.0</td>\n",
       "      <td>1996</td>\n",
       "      <td>23</td>\n",
       "      <td>T</td>\n",
       "      <td>T</td>\n",
       "      <td>1.0</td>\n",
       "      <td>1</td>\n",
       "    </tr>\n",
       "    <tr>\n",
       "      <th>1</th>\n",
       "      <td>48</td>\n",
       "      <td>10</td>\n",
       "      <td>23oct1996</td>\n",
       "      <td>13may1997</td>\n",
       "      <td>T</td>\n",
       "      <td>1</td>\n",
       "      <td>2.0</td>\n",
       "      <td>1996</td>\n",
       "      <td>6</td>\n",
       "      <td>T</td>\n",
       "      <td>T</td>\n",
       "      <td>NaN</td>\n",
       "      <td>2</td>\n",
       "    </tr>\n",
       "    <tr>\n",
       "      <th>3</th>\n",
       "      <td>63</td>\n",
       "      <td>29</td>\n",
       "      <td>07sep1996</td>\n",
       "      <td>06sep1997</td>\n",
       "      <td>U</td>\n",
       "      <td>1</td>\n",
       "      <td>4.0</td>\n",
       "      <td>1996</td>\n",
       "      <td>780</td>\n",
       "      <td>T</td>\n",
       "      <td>P</td>\n",
       "      <td>1.0</td>\n",
       "      <td>1</td>\n",
       "    </tr>\n",
       "    <tr>\n",
       "      <th>4</th>\n",
       "      <td>63</td>\n",
       "      <td>30</td>\n",
       "      <td>26oct1998</td>\n",
       "      <td>18dec1998</td>\n",
       "      <td>T</td>\n",
       "      <td>1</td>\n",
       "      <td>4.0</td>\n",
       "      <td>1998</td>\n",
       "      <td>45</td>\n",
       "      <td>P</td>\n",
       "      <td>T</td>\n",
       "      <td>NaN</td>\n",
       "      <td>2</td>\n",
       "    </tr>\n",
       "    <tr>\n",
       "      <th>5</th>\n",
       "      <td>66</td>\n",
       "      <td>27</td>\n",
       "      <td>17jun1999</td>\n",
       "      <td>25jun1999</td>\n",
       "      <td>T</td>\n",
       "      <td>1</td>\n",
       "      <td>2.0</td>\n",
       "      <td>1999</td>\n",
       "      <td>11</td>\n",
       "      <td>T</td>\n",
       "      <td>T</td>\n",
       "      <td>NaN</td>\n",
       "      <td>1</td>\n",
       "    </tr>\n",
       "  </tbody>\n",
       "</table>\n",
       "</div>"
      ],
      "text/plain": [
       "   id  jobcount       dtin      dtout state  sex_d  educ2  year_in  \\\n",
       "0  48         9  01oct1996  21oct1996     U      1    2.0     1996   \n",
       "1  48        10  23oct1996  13may1997     T      1    2.0     1996   \n",
       "3  63        29  07sep1996  06sep1997     U      1    4.0     1996   \n",
       "4  63        30  26oct1998  18dec1998     T      1    4.0     1998   \n",
       "5  66        27  17jun1999  25jun1999     T      1    2.0     1999   \n",
       "\n",
       "   real_days_1 state_future state_past  nuc  nup  \n",
       "0           23            T          T  1.0    1  \n",
       "1            6            T          T  NaN    2  \n",
       "3          780            T          P  1.0    1  \n",
       "4           45            P          T  NaN    2  \n",
       "5           11            T          T  NaN    1  "
      ]
     },
     "execution_count": 5,
     "metadata": {},
     "output_type": "execute_result"
    }
   ],
   "source": [
    "data_noa = data_noa[data_noa.nup<3]\n",
    "data_noa.head()"
   ]
  },
  {
   "cell_type": "code",
   "execution_count": 7,
   "metadata": {},
   "outputs": [],
   "source": [
    "gb = data_noa.groupby(\"id\")"
   ]
  },
  {
   "cell_type": "code",
   "execution_count": 8,
   "metadata": {},
   "outputs": [
    {
     "data": {
      "text/plain": [
       "<pandas.core.groupby.generic.DataFrameGroupBy object at 0x1028f1ef0>"
      ]
     },
     "execution_count": 8,
     "metadata": {},
     "output_type": "execute_result"
    }
   ],
   "source": [
    "gb.describe("
   ]
  },
  {
   "cell_type": "code",
   "execution_count": null,
   "metadata": {},
   "outputs": [],
   "source": [
    "by id: egen mu_i = mean(real_days_1)\n",
    "by id: replace mu_i = . if nup==1\n",
    "\n",
    "*-*-*-* mu hat bar y *-*-*-*\n",
    "\n",
    "egen N = count(mu_i)\n",
    "egen mu_y = mean(mu_i)\n",
    "\n",
    "*-*-*-* sigma i hat *-*-*-*\n",
    "\n",
    "by id : gen sig_i = ((real_days_1[1]-real_days_1[2])^2)/2 if nup==2\n",
    "\n",
    "*-*-*-* sigma y bar hat *-*-*-*\n",
    "\n",
    "by id : gen sigyi = real_days_1[1]^2 + real_days_1[2]^2 - 2*mu_y^2 if mu_i!=.\n",
    "\n",
    "gen sig_y = sum(sigyi)/(2*N-1)\n",
    "replace sig_y = sig_y[_N]"
   ]
  }
 ],
 "metadata": {
  "kernelspec": {
   "display_name": "Python 3",
   "language": "python",
   "name": "python3"
  },
  "language_info": {
   "codemirror_mode": {
    "name": "ipython",
    "version": 3
   },
   "file_extension": ".py",
   "mimetype": "text/x-python",
   "name": "python",
   "nbconvert_exporter": "python",
   "pygments_lexer": "ipython3",
   "version": "3.6.10"
  }
 },
 "nbformat": 4,
 "nbformat_minor": 4
}
