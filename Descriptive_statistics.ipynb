{
 "cells": [
  {
   "cell_type": "code",
   "execution_count": 1,
   "metadata": {},
   "outputs": [],
   "source": [
    "# importing libraries\n",
    "from __future__ import division\n",
    "import numpy as np#\n",
    "from matplotlib import pyplot as plt\n",
    "%matplotlib inline\n",
    "import seaborn as sns\n",
    "sns.set_style(\"whitegrid\")\n",
    "from scipy import stats\n",
    "import pandas as pd\n",
    "import itertools\n",
    "\n",
    "%load_ext autoreload\n",
    "%autoreload 2"
   ]
  },
  {
   "cell_type": "code",
   "execution_count": 2,
   "metadata": {},
   "outputs": [],
   "source": [
    "ccaa_codes = pd.read_csv('./data/ccaa_codes.csv',delimiter=',',index_col=0)\n",
    "ccaa_codes.to_stata('./data/ccaa_codes.dta')\n",
    "# ccaa_codes"
   ]
  },
  {
   "cell_type": "code",
   "execution_count": 28,
   "metadata": {},
   "outputs": [],
   "source": [
    "table_raw = np.zeros((8,15))\n",
    "# var_names = []\n",
    "row_n = 0\n",
    "# table_n = 0\n",
    "column_names = []\n",
    "results_follow = 0\n",
    "# names_done = 0\n",
    "f = open(\"descriptive_stats_stu.log\",'r')\n",
    "for line in f:\n",
    "#     print(line)\n",
    "    words = line.split()\n",
    "    if len(words)>1 and words[0] == \"Variable\":\n",
    "        results_follow=1\n",
    "    elif len(words)>1 and results_follow==1:\n",
    "        column_names.append(words[0])\n",
    "        idx = 0\n",
    "        for w in words[1:]: \n",
    "            w = w.replace(\",\",\"\")\n",
    "            table_raw[idx,row_n] = np.array(w)\n",
    "            idx+=1\n",
    "        row_n += 1\n",
    "        if words[0]=='norte':\n",
    "            break"
   ]
  },
  {
   "cell_type": "code",
   "execution_count": 18,
   "metadata": {},
   "outputs": [
    {
     "name": "stdout",
     "output_type": "stream",
     "text": [
      "\\begin{tabular}{llll}\n",
      "\\toprule\n",
      "{} &      Mean &     Std. &      Mdn \\\\\n",
      "\\midrule\n",
      "duration (in days)                   &    225.21 &   413.32 &       84 \\\\\n",
      "nup                                  &      1.50 &     0.50 &      1.5 \\\\\n",
      "duration of previous spell (in days) &    372.54 &   733.94 &      125 \\\\\n",
      "age                                  &     32.14 &     6.76 &       30 \\\\\n",
      "Female                               &      0.45 &     0.50 &        0 \\\\\n",
      "College or above                     &      0.15 &     0.36 &        0 \\\\\n",
      "year of spell                        &  2,003.39 &     4.93 &     2003 \\\\\n",
      "Last spell was TC                    &      0.64 &     0.48 &        1 \\\\\n",
      "Last spell was PC                    &      0.30 &     0.46 &        0 \\\\\n",
      "Last spell was SE                    &      0.06 &     0.24 &        0 \\\\\n",
      "quit                                 &      0.32 &     0.47 &        0 \\\\\n",
      "madrid                               &      0.14 &     0.35 &        0 \\\\\n",
      "barcelona                            &      0.12 &     0.32 &        0 \\\\\n",
      "sur                                  &      0.20 &     0.40 &        0 \\\\\n",
      "norte                                &      0.06 &     0.25 &        0 \\\\\n",
      "N                                    &   672,456 &  672,456 &  672,456 \\\\\n",
      "\\bottomrule\n",
      "\\end{tabular}\n",
      "\n"
     ]
    }
   ],
   "source": [
    "descriptive_stats_table = pd.DataFrame(table_raw.T,\n",
    "                                       index=column_names,columns=['N','Mean','Std.','Min','.25','Mdn','.75','Max'])\n",
    "descriptive_stats_table = descriptive_stats_table[['Mean','Std.','Min','Mdn','Max','N']]\n",
    "descriptive_stats_table['Mean'] = descriptive_stats_table['Mean'].apply(lambda x: \"{:,.2f}\".format(float(x)))\n",
    "descriptive_stats_table['Std.'] = descriptive_stats_table['Std.'].apply(lambda x: \"{:,.2f}\".format(float(x)))\n",
    "descriptive_stats_table['N'] = descriptive_stats_table['N'].apply(lambda x: \"{:,.0f}\".format(float(x)))\n",
    "# descriptive_stats_table.loc['year_in'] = descriptive_stats_table.loc['year_in'].apply(lambda x: \"{:.0}\".format(x))\n",
    "\n",
    "descriptive_stats_table = descriptive_stats_table.rename(index={\"real_days_1\":'duration (in days)',\n",
    "                                                                 \"days_past\":\"duration of previous spell (in days)\",\n",
    "                                                                 \"sex_d\": 'Female', 'college':'College or above',\n",
    "                                                                 'year_in':'year of spell','past_T': \"Last spell was TC\",\n",
    "                                                                  'past_P': \"Last spell was PC\",\n",
    "                                                                  'past_A': \"Last spell was SE\"})\n",
    "total = descriptive_stats_table['N'].iloc[0]\n",
    "descriptive_stats_table = descriptive_stats_table.drop(columns='N')\n",
    "descriptive_stats_table.loc[\"N\"] = np.repeat(total, 5)\n",
    "descriptive_stats_table = descriptive_stats_table[['Mean','Std.','Mdn']]\n",
    "\n",
    "print(descriptive_stats_table.to_latex())"
   ]
  },
  {
   "cell_type": "code",
   "execution_count": 20,
   "metadata": {},
   "outputs": [],
   "source": [
    "table_raw_07 = np.zeros((8,15))\n",
    "# var_names = []\n",
    "row_n = 0\n",
    "# table_n = 0\n",
    "column_names = []\n",
    "results_follow = 0\n",
    "# names_done = 0\n",
    "f = open(\"descriptive_stats_07.log\",'r')\n",
    "for line in f:\n",
    "#     print(line)\n",
    "    words = line.split()\n",
    "    if len(words)>1 and words[0] == \"Variable\":\n",
    "        results_follow=1\n",
    "    elif len(words)>1 and results_follow==1:\n",
    "        idx = 0\n",
    "        for w in words[1:]: \n",
    "            w = w.replace(\",\",\"\")\n",
    "            table_raw_07[idx,row_n] = np.array(w)\n",
    "            idx+=1\n",
    "        row_n += 1\n",
    "        if words[0]=='norte':\n",
    "            break"
   ]
  },
  {
   "cell_type": "code",
   "execution_count": 34,
   "metadata": {},
   "outputs": [],
   "source": [
    "table_raw_13 = np.zeros((8,15))\n",
    "\n",
    "row_n = 0\n",
    "results_follow = 0\n",
    "# names_done = 0\n",
    "f = open(\"descriptive_stats_13.log\",'r')\n",
    "for line in f:\n",
    "#     print(line)\n",
    "    words = line.split()\n",
    "    if len(words)>1 and words[0] == \"Variable\":\n",
    "        results_follow=1\n",
    "    elif len(words)>1 and results_follow==1:\n",
    "        idx = 0\n",
    "        for w in words[1:]: \n",
    "            w = w.replace(\",\",\"\")\n",
    "            table_raw_13[idx,row_n] = np.array(w)\n",
    "            idx+=1\n",
    "        row_n += 1\n",
    "        if words[0]=='norte':\n",
    "            break"
   ]
  },
  {
   "cell_type": "code",
   "execution_count": 35,
   "metadata": {},
   "outputs": [],
   "source": [
    "descriptive_stats_table_07 = pd.DataFrame(table_raw_07.T,\n",
    "                                       index=column_names,columns=['N','Mean','Std.','Min','.25','Mdn','.75','Max'])\n",
    "descriptive_stats_table_07 = descriptive_stats_table_07[['Mean','Std.','Min','Mdn','Max','N']]\n",
    "descriptive_stats_table_07['Mean'] = descriptive_stats_table_07['Mean'].apply(lambda x: \"{:,.2f}\".format(float(x)))\n",
    "descriptive_stats_table_07['Std.'] = descriptive_stats_table_07['Std.'].apply(lambda x: \"{:,.2f}\".format(float(x)))\n",
    "descriptive_stats_table_07['N'] = descriptive_stats_table_07['N'].apply(lambda x: \"{:,.0f}\".format(float(x)))\n",
    "# descriptive_stats_table_07.loc['year_in'] = descriptive_stats_table_07.loc['year_in'].apply(lambda x: \"{:.0}\".format(x))\n",
    "\n",
    "descriptive_stats_table_07 = descriptive_stats_table_07.rename(index={\"real_days_1\":'duration (in days)',\n",
    "                                                                 \"days_past\":\"duration of previous spell (in days)\",\n",
    "                                                                 \"sex_d\": 'Female', 'college':'College or above',\n",
    "                                                                 'year_in':'year of spell','past_T': \"Last spell was TC\",\n",
    "                                                                  'past_P': \"Last spell was PC\",\n",
    "                                                                  'past_A': \"Last spell was SE\"})\n",
    "total = descriptive_stats_table_07['N'].iloc[0]\n",
    "descriptive_stats_table_07 = descriptive_stats_table_07.drop(columns='N')\n",
    "descriptive_stats_table_07.loc[\"N\"] = np.repeat(total, 5)\n",
    "descriptive_stats_table_07 = descriptive_stats_table_07[['Mean','Std.','Mdn']]\n",
    "\n",
    "# * * * * * * * * * * * * * * * * * * * * * * * * * * * * * * * * * * * * * * * * * * * * * * * * * * * * * * *\n",
    "\n",
    "descriptive_stats_table_13 = pd.DataFrame(table_raw_13.T,\n",
    "                                       index=column_names,columns=['N','Mean','Std.','Min','.25','Mdn','.75','Max'])\n",
    "descriptive_stats_table_13 = descriptive_stats_table_13[['Mean','Std.','Min','Mdn','Max','N']]\n",
    "descriptive_stats_table_13['Mean'] = descriptive_stats_table_13['Mean'].apply(lambda x: \"{:,.2f}\".format(float(x)))\n",
    "descriptive_stats_table_13['Std.'] = descriptive_stats_table_13['Std.'].apply(lambda x: \"{:,.2f}\".format(float(x)))\n",
    "descriptive_stats_table_13['N'] = descriptive_stats_table_13['N'].apply(lambda x: \"{:,.0f}\".format(float(x)))\n",
    "# descriptive_stats_table_13.loc['year_in'] = descriptive_stats_table_13.loc['year_in'].apply(lambda x: \"{:.0}\".format(x))\n",
    "\n",
    "descriptive_stats_table_13 = descriptive_stats_table_13.rename(index={\"real_days_1\":'duration (in days)',\n",
    "                                                                 \"days_past\":\"duration of previous spell (in days)\",\n",
    "                                                                 \"sex_d\": 'Female', 'college':'College or above',\n",
    "                                                                 'year_in':'year of spell','past_T': \"Last spell was TC\",\n",
    "                                                                  'past_P': \"Last spell was PC\",\n",
    "                                                                  'past_A': \"Last spell was SE\"})\n",
    "total = descriptive_stats_table_13['N'].iloc[0]\n",
    "descriptive_stats_table_13 = descriptive_stats_table_13.drop(columns='N')\n",
    "descriptive_stats_table_13.loc[\"N\"] = np.repeat(total, 5)\n",
    "descriptive_stats_table_13 = descriptive_stats_table_13[['Mean','Std.','Mdn']]\n",
    "\n",
    "# print(descriptive_stats_table_13.to_latex())\n",
    "\n",
    "# print(descriptive_stats_table_07.to_latex())"
   ]
  },
  {
   "cell_type": "code",
   "execution_count": 37,
   "metadata": {},
   "outputs": [
    {
     "name": "stdout",
     "output_type": "stream",
     "text": [
      "\\begin{tabular}{lllllll}\n",
      "\\toprule\n",
      "{} &      Mean &     Std. &      Mdn &      Mean &     Std. &      Mdn \\\\\n",
      "\\midrule\n",
      "duration (in days)                   &    164.80 &   296.75 &       63 &    201.55 &   278.53 &      103 \\\\\n",
      "nup                                  &      1.50 &     0.50 &      1.5 &      1.50 &     0.50 &      1.5 \\\\\n",
      "duration of previous spell (in days) &    275.66 &   538.69 &      114 &    324.05 &   628.00 &      121 \\\\\n",
      "age                                  &     33.31 &     6.92 &       32 &     34.64 &     7.04 &       34 \\\\\n",
      "Female                               &      0.45 &     0.50 &        0 &      0.44 &     0.50 &        0 \\\\\n",
      "College or above                     &      0.14 &     0.35 &        0 &      0.13 &     0.34 &        0 \\\\\n",
      "year of spell                        &  2,003.81 &     1.76 &     2004 &  2,009.46 &     1.62 &     2009 \\\\\n",
      "Last spell was TC                    &      0.72 &     0.45 &        1 &      0.66 &     0.47 &        1 \\\\\n",
      "Last spell was PC                    &      0.23 &     0.42 &        0 &      0.27 &     0.44 &        0 \\\\\n",
      "Last spell was SE                    &      0.04 &     0.20 &        0 &      0.06 &     0.23 &        0 \\\\\n",
      "quit                                 &      0.35 &     0.48 &        0 &      0.20 &     0.40 &        0 \\\\\n",
      "madrid                               &      0.14 &     0.35 &        0 &      0.12 &     0.32 &        0 \\\\\n",
      "barcelona                            &      0.12 &     0.32 &        0 &      0.10 &     0.30 &        0 \\\\\n",
      "sur                                  &      0.20 &     0.40 &        0 &      0.23 &     0.42 &        0 \\\\\n",
      "norte                                &      0.06 &     0.24 &        0 &      0.06 &     0.24 &        0 \\\\\n",
      "N                                    &   301,482 &  301,482 &  301,482 &   332,684 &  332,684 &  332,684 \\\\\n",
      "\\bottomrule\n",
      "\\end{tabular}\n",
      "\n"
     ]
    }
   ],
   "source": [
    "table_BC = pd.concat((descriptive_stats_table_07,descriptive_stats_table_13),axis=1)\n",
    "\n",
    "print(table_BC.to_latex())"
   ]
  },
  {
   "cell_type": "code",
   "execution_count": 127,
   "metadata": {},
   "outputs": [
    {
     "data": {
      "text/plain": [
       "Mean    225.206\n",
       "Std.    413.323\n",
       "Min           1\n",
       "Max       11668\n",
       "N        672456\n",
       "Name: real_days_1, dtype: object"
      ]
     },
     "execution_count": 127,
     "metadata": {},
     "output_type": "execute_result"
    }
   ],
   "source": [
    "descriptive_stats_table.loc[n]"
   ]
  },
  {
   "cell_type": "code",
   "execution_count": 89,
   "metadata": {},
   "outputs": [],
   "source": []
  },
  {
   "cell_type": "code",
   "execution_count": null,
   "metadata": {},
   "outputs": [],
   "source": []
  },
  {
   "cell_type": "code",
   "execution_count": 43,
   "metadata": {},
   "outputs": [],
   "source": [
    "postcodes = pd.read_csv('./data/postcodes.csv',delimiter=';',encoding= 'unicode_escape') #,dtype='str'\n",
    "postcodes = postcodes.rename(columns={'codigopostalid':'living_region'})"
   ]
  },
  {
   "cell_type": "code",
   "execution_count": 44,
   "metadata": {},
   "outputs": [
    {
     "data": {
      "text/html": [
       "<div>\n",
       "<style scoped>\n",
       "    .dataframe tbody tr th:only-of-type {\n",
       "        vertical-align: middle;\n",
       "    }\n",
       "\n",
       "    .dataframe tbody tr th {\n",
       "        vertical-align: top;\n",
       "    }\n",
       "\n",
       "    .dataframe thead th {\n",
       "        text-align: right;\n",
       "    }\n",
       "</style>\n",
       "<table border=\"1\" class=\"dataframe\">\n",
       "  <thead>\n",
       "    <tr style=\"text-align: right;\">\n",
       "      <th></th>\n",
       "      <th>provincia</th>\n",
       "      <th>poblacion</th>\n",
       "      <th>living_region</th>\n",
       "    </tr>\n",
       "  </thead>\n",
       "  <tbody>\n",
       "    <tr>\n",
       "      <th>2421</th>\n",
       "      <td>Burgos</td>\n",
       "      <td>Jurisdicción de Lara</td>\n",
       "      <td>9640</td>\n",
       "    </tr>\n",
       "    <tr>\n",
       "      <th>2422</th>\n",
       "      <td>Burgos</td>\n",
       "      <td>Tinieblas de la Sierra</td>\n",
       "      <td>9640</td>\n",
       "    </tr>\n",
       "    <tr>\n",
       "      <th>2423</th>\n",
       "      <td>Burgos</td>\n",
       "      <td>Jaramillo de la Fuente</td>\n",
       "      <td>9640</td>\n",
       "    </tr>\n",
       "    <tr>\n",
       "      <th>2424</th>\n",
       "      <td>Burgos</td>\n",
       "      <td>Cascajares de la Sierra</td>\n",
       "      <td>9640</td>\n",
       "    </tr>\n",
       "    <tr>\n",
       "      <th>2425</th>\n",
       "      <td>Burgos</td>\n",
       "      <td>San Millán de Lara</td>\n",
       "      <td>9640</td>\n",
       "    </tr>\n",
       "    <tr>\n",
       "      <th>2426</th>\n",
       "      <td>Burgos</td>\n",
       "      <td>Mambrillas de Lara</td>\n",
       "      <td>9640</td>\n",
       "    </tr>\n",
       "    <tr>\n",
       "      <th>2427</th>\n",
       "      <td>Burgos</td>\n",
       "      <td>Villoruebo</td>\n",
       "      <td>9640</td>\n",
       "    </tr>\n",
       "    <tr>\n",
       "      <th>2428</th>\n",
       "      <td>Burgos</td>\n",
       "      <td>Hortigüela</td>\n",
       "      <td>9640</td>\n",
       "    </tr>\n",
       "    <tr>\n",
       "      <th>2429</th>\n",
       "      <td>Burgos</td>\n",
       "      <td>Jaramillo Quemado</td>\n",
       "      <td>9640</td>\n",
       "    </tr>\n",
       "    <tr>\n",
       "      <th>2430</th>\n",
       "      <td>Burgos</td>\n",
       "      <td>Villaespasa</td>\n",
       "      <td>9640</td>\n",
       "    </tr>\n",
       "  </tbody>\n",
       "</table>\n",
       "</div>"
      ],
      "text/plain": [
       "     provincia                poblacion  living_region\n",
       "2421    Burgos     Jurisdicción de Lara           9640\n",
       "2422    Burgos   Tinieblas de la Sierra           9640\n",
       "2423    Burgos   Jaramillo de la Fuente           9640\n",
       "2424    Burgos  Cascajares de la Sierra           9640\n",
       "2425    Burgos       San Millán de Lara           9640\n",
       "2426    Burgos       Mambrillas de Lara           9640\n",
       "2427    Burgos               Villoruebo           9640\n",
       "2428    Burgos               Hortigüela           9640\n",
       "2429    Burgos        Jaramillo Quemado           9640\n",
       "2430    Burgos              Villaespasa           9640"
      ]
     },
     "execution_count": 44,
     "metadata": {},
     "output_type": "execute_result"
    }
   ],
   "source": [
    "postcodes[postcodes.living_region==9640]"
   ]
  },
  {
   "cell_type": "code",
   "execution_count": 45,
   "metadata": {},
   "outputs": [],
   "source": [
    "ps_forward = postcodes.living_region[1:].values\n",
    "ps_back = postcodes.living_region[:-1].values\n",
    "\n",
    "ps_filter = np.hstack((1,ps_forward-ps_back))\n",
    "postcodes['repe'] = ps_filter\n",
    "postcodes= postcodes[postcodes.repe!=0]\n",
    "postcodes.drop(columns=['repe',])\n",
    "postcodes.to_stata('./data/postcodes.dta')"
   ]
  },
  {
   "cell_type": "code",
   "execution_count": 46,
   "metadata": {},
   "outputs": [
    {
     "data": {
      "text/html": [
       "<div>\n",
       "<style scoped>\n",
       "    .dataframe tbody tr th:only-of-type {\n",
       "        vertical-align: middle;\n",
       "    }\n",
       "\n",
       "    .dataframe tbody tr th {\n",
       "        vertical-align: top;\n",
       "    }\n",
       "\n",
       "    .dataframe thead th {\n",
       "        text-align: right;\n",
       "    }\n",
       "</style>\n",
       "<table border=\"1\" class=\"dataframe\">\n",
       "  <thead>\n",
       "    <tr style=\"text-align: right;\">\n",
       "      <th></th>\n",
       "      <th>provincia</th>\n",
       "      <th>poblacion</th>\n",
       "      <th>living_region</th>\n",
       "      <th>repe</th>\n",
       "    </tr>\n",
       "  </thead>\n",
       "  <tbody>\n",
       "    <tr>\n",
       "      <th>0</th>\n",
       "      <td>Araba/Álava</td>\n",
       "      <td>Alegría-Dulantzi</td>\n",
       "      <td>240</td>\n",
       "      <td>1</td>\n",
       "    </tr>\n",
       "    <tr>\n",
       "      <th>1</th>\n",
       "      <td>Ávila</td>\n",
       "      <td>Candeleda</td>\n",
       "      <td>548</td>\n",
       "      <td>308</td>\n",
       "    </tr>\n",
       "    <tr>\n",
       "      <th>2</th>\n",
       "      <td>Araba/Álava</td>\n",
       "      <td>Vitoria-Gasteiz</td>\n",
       "      <td>1001</td>\n",
       "      <td>453</td>\n",
       "    </tr>\n",
       "    <tr>\n",
       "      <th>3</th>\n",
       "      <td>Araba/Álava</td>\n",
       "      <td>Vitoria-Gasteiz</td>\n",
       "      <td>1002</td>\n",
       "      <td>1</td>\n",
       "    </tr>\n",
       "    <tr>\n",
       "      <th>4</th>\n",
       "      <td>Araba/Álava</td>\n",
       "      <td>Vitoria-Gasteiz</td>\n",
       "      <td>1003</td>\n",
       "      <td>1</td>\n",
       "    </tr>\n",
       "  </tbody>\n",
       "</table>\n",
       "</div>"
      ],
      "text/plain": [
       "     provincia         poblacion  living_region  repe\n",
       "0  Araba/Álava  Alegría-Dulantzi            240     1\n",
       "1        Ávila         Candeleda            548   308\n",
       "2  Araba/Álava   Vitoria-Gasteiz           1001   453\n",
       "3  Araba/Álava   Vitoria-Gasteiz           1002     1\n",
       "4  Araba/Álava   Vitoria-Gasteiz           1003     1"
      ]
     },
     "execution_count": 46,
     "metadata": {},
     "output_type": "execute_result"
    }
   ],
   "source": [
    "postcodes.head()"
   ]
  },
  {
   "cell_type": "code",
   "execution_count": 38,
   "metadata": {},
   "outputs": [
    {
     "data": {
      "text/plain": [
       "0"
      ]
     },
     "execution_count": 38,
     "metadata": {},
     "output_type": "execute_result"
    }
   ],
   "source": [
    "np.sum(postcodes.living_region.value_counts()>1)"
   ]
  }
 ],
 "metadata": {
  "kernelspec": {
   "display_name": "Python 3",
   "language": "python",
   "name": "python3"
  },
  "language_info": {
   "codemirror_mode": {
    "name": "ipython",
    "version": 3
   },
   "file_extension": ".py",
   "mimetype": "text/x-python",
   "name": "python",
   "nbconvert_exporter": "python",
   "pygments_lexer": "ipython3",
   "version": "3.6.10"
  }
 },
 "nbformat": 4,
 "nbformat_minor": 4
}
